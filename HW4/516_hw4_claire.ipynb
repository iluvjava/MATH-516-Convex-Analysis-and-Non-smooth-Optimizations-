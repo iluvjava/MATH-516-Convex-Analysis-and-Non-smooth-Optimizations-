{
 "cells": [
  {
   "cell_type": "code",
   "execution_count": 260,
   "id": "a28d826a",
   "metadata": {},
   "outputs": [],
   "source": [
    "import numpy as np"
   ]
  },
  {
   "cell_type": "code",
   "execution_count": 261,
   "id": "af681533",
   "metadata": {},
   "outputs": [],
   "source": [
    "n=50\n",
    "m=100\n",
    "lamb=1"
   ]
  },
  {
   "cell_type": "code",
   "execution_count": 262,
   "id": "233bf44b",
   "metadata": {},
   "outputs": [],
   "source": [
    "theta_opt=np.ones(n)"
   ]
  },
  {
   "cell_type": "code",
   "execution_count": 263,
   "id": "855860ca",
   "metadata": {},
   "outputs": [],
   "source": [
    "X=np.random.standard_normal((m, n))"
   ]
  },
  {
   "cell_type": "code",
   "execution_count": 264,
   "id": "1da21fee",
   "metadata": {},
   "outputs": [],
   "source": [
    "z=np.dot(X, theta_opt)"
   ]
  },
  {
   "cell_type": "code",
   "execution_count": 265,
   "id": "d3e9d61e",
   "metadata": {},
   "outputs": [],
   "source": [
    "ps = 1/(1+np.exp(-z))"
   ]
  },
  {
   "cell_type": "code",
   "execution_count": 266,
   "id": "04f1bc81",
   "metadata": {},
   "outputs": [],
   "source": [
    "y=np.random.binomial(1, p=ps)"
   ]
  },
  {
   "cell_type": "code",
   "execution_count": 267,
   "id": "35003bb7",
   "metadata": {},
   "outputs": [],
   "source": [
    "y[y==0]=-1"
   ]
  },
  {
   "cell_type": "code",
   "execution_count": 268,
   "id": "3b3cb6dc",
   "metadata": {},
   "outputs": [],
   "source": [
    "theta_0 = np.random.standard_normal(n)"
   ]
  },
  {
   "cell_type": "code",
   "execution_count": 269,
   "id": "d9d49e9c",
   "metadata": {},
   "outputs": [],
   "source": [
    "beta=100\n",
    "alpha=1"
   ]
  },
  {
   "cell_type": "code",
   "execution_count": 270,
   "id": "832d3a76",
   "metadata": {},
   "outputs": [],
   "source": [
    "#plot function values for the first 100 iterations"
   ]
  },
  {
   "cell_type": "code",
   "execution_count": 271,
   "id": "dc902d69",
   "metadata": {},
   "outputs": [],
   "source": [
    "def calculate_gradient(X, theta, y, lamb):\n",
    "    u = np.exp(np.multiply(-y, np.dot(X, theta)))\n",
    "    coef = np.divide(u, 1+u)\n",
    "    grad = np.dot(np.multiply(coef, -y), X).T + lamb*theta\n",
    "    return grad"
   ]
  },
  {
   "cell_type": "code",
   "execution_count": 272,
   "id": "a71b7ecc",
   "metadata": {},
   "outputs": [],
   "source": [
    "def evaluate_function_value(X, theta, y, lamb):\n",
    "    first = np.sum(np.log(1+np.exp(np.multiply(-y, np.dot(X, theta)))))\n",
    "    second = (lamb/2)* np.linalg.norm(theta)**2\n",
    "    return first+second"
   ]
  },
  {
   "cell_type": "code",
   "execution_count": 290,
   "id": "a7f63845",
   "metadata": {},
   "outputs": [],
   "source": [
    "def gradient_descient(theta_0, X, y, beta, lamb, T=100):\n",
    "    theta = theta_0\n",
    "    func_val_history=np.zeros(T)\n",
    "    for t in range(T):\n",
    "        grad = calculate_gradient(X, theta, y, lamb)\n",
    "        print(f\"Gradient Norm: {np.linalg.norm(grad)}\")\n",
    "        theta = theta - (1/beta)*grad\n",
    "        func_val_history[t] = evaluate_function_value(X, theta, y, lamb)\n",
    "    return func_val_history"
   ]
  },
  {
   "cell_type": "code",
   "execution_count": 291,
   "id": "5dd66da9",
   "metadata": {},
   "outputs": [
    {
     "name": "stdout",
     "output_type": "stream",
     "text": [
      "Gradient Norm: 59.63682812984368\n",
      "Gradient Norm: 54.27312718325708\n",
      "Gradient Norm: 48.843496854347634\n",
      "Gradient Norm: 43.56391244348875\n",
      "Gradient Norm: 38.620101461851775\n",
      "Gradient Norm: 34.11605858233999\n",
      "Gradient Norm: 30.067193652765415\n",
      "Gradient Norm: 26.58661038166225\n",
      "Gradient Norm: 23.749667767520563\n",
      "Gradient Norm: 21.506870950913438\n",
      "Gradient Norm: 19.721420211546647\n",
      "Gradient Norm: 18.252310670124423\n",
      "Gradient Norm: 17.001682859716873\n",
      "Gradient Norm: 15.909910798351618\n",
      "Gradient Norm: 14.938710557314232\n",
      "Gradient Norm: 14.065937347226361\n",
      "Gradient Norm: 13.283317298858556\n",
      "Gradient Norm: 12.58797143175384\n",
      "Gradient Norm: 11.973615387111465\n",
      "Gradient Norm: 11.42846394905824\n",
      "Gradient Norm: 10.938045155518228\n",
      "Gradient Norm: 10.488230460667507\n",
      "Gradient Norm: 10.06669651887087\n",
      "Gradient Norm: 9.663290380840726\n",
      "Gradient Norm: 9.270090748216285\n",
      "Gradient Norm: 8.881586595039762\n",
      "Gradient Norm: 8.495012871049594\n",
      "Gradient Norm: 8.110599954067194\n",
      "Gradient Norm: 7.731364541125624\n",
      "Gradient Norm: 7.362214241084487\n",
      "Gradient Norm: 7.008541662385242\n",
      "Gradient Norm: 6.674846840755238\n",
      "Gradient Norm: 6.363911016685625\n",
      "Gradient Norm: 6.076677047251256\n",
      "Gradient Norm: 5.8126240811082255\n",
      "Gradient Norm: 5.570309291944427\n",
      "Gradient Norm: 5.347846369060502\n",
      "Gradient Norm: 5.1432351752634915\n",
      "Gradient Norm: 4.954550538603899\n",
      "Gradient Norm: 4.780031286150633\n",
      "Gradient Norm: 4.618109723586818\n",
      "Gradient Norm: 4.46741003068231\n",
      "Gradient Norm: 4.326732675691206\n",
      "Gradient Norm: 4.195034042308113\n",
      "Gradient Norm: 4.0714057526506915\n",
      "Gradient Norm: 3.9550556230702827\n",
      "Gradient Norm: 3.845290910928153\n",
      "Gradient Norm: 3.7415039145657305\n",
      "Gradient Norm: 3.643159739043672\n",
      "Gradient Norm: 3.549785957180983\n",
      "Gradient Norm: 3.4609638877442546\n",
      "Gradient Norm: 3.3763212357782715\n",
      "Gradient Norm: 3.2955258731584927\n",
      "Gradient Norm: 3.218280571231588\n",
      "Gradient Norm: 3.1443185281865547\n",
      "Gradient Norm: 3.07339956041692\n",
      "Gradient Norm: 3.0053068495612347\n",
      "Gradient Norm: 2.9398441555495913\n",
      "Gradient Norm: 2.8768334213720146\n",
      "Gradient Norm: 2.8161127079496606\n",
      "Gradient Norm: 2.7575344079052457\n",
      "Gradient Norm: 2.7009636955987526\n",
      "Gradient Norm: 2.6462771778541794\n",
      "Gradient Norm: 2.5933617156286264\n",
      "Gradient Norm: 2.5421133916912146\n",
      "Gradient Norm: 2.49243660336909\n",
      "Gradient Norm: 2.4442432627296116\n",
      "Gradient Norm: 2.3974520893223854\n",
      "Gradient Norm: 2.3519879829004444\n",
      "Gradient Norm: 2.3077814654566056\n",
      "Gradient Norm: 2.2647681835143394\n",
      "Gradient Norm: 2.2228884629560257\n",
      "Gradient Norm: 2.182086909799189\n",
      "Gradient Norm: 2.142312051279582\n",
      "Gradient Norm: 2.103516012398604\n",
      "Gradient Norm: 2.0656542237664053\n",
      "Gradient Norm: 2.028685157141546\n",
      "Gradient Norm: 1.9925700855503699\n",
      "Gradient Norm: 1.9572728652785536\n",
      "Gradient Norm: 1.9227597373753191\n",
      "Gradient Norm: 1.888999146607584\n",
      "Gradient Norm: 1.8559615760550074\n",
      "Gradient Norm: 1.8236193957543962\n",
      "Gradient Norm: 1.791946723989082\n",
      "Gradient Norm: 1.76091929998036\n",
      "Gradient Norm: 1.7305143668780878\n",
      "Gradient Norm: 1.7007105640692426\n",
      "Gradient Norm: 1.6714878279295802\n",
      "Gradient Norm: 1.6428273002367886\n",
      "Gradient Norm: 1.6147112435456201\n",
      "Gradient Norm: 1.5871229628980525\n",
      "Gradient Norm: 1.5600467333059487\n",
      "Gradient Norm: 1.5334677325009511\n",
      "Gradient Norm: 1.507371978497559\n",
      "Gradient Norm: 1.4817462715611094\n",
      "Gradient Norm: 1.4565781402134754\n",
      "Gradient Norm: 1.431855790946154\n",
      "Gradient Norm: 1.407568061343605\n",
      "Gradient Norm: 1.3837043763494892\n",
      "Gradient Norm: 1.3602547074352587\n"
     ]
    }
   ],
   "source": [
    "func_val_history = gradient_descient(theta_0, X, y, beta, lamb, T=100)"
   ]
  },
  {
   "cell_type": "code",
   "execution_count": 282,
   "id": "6ae292a4",
   "metadata": {},
   "outputs": [
    {
     "data": {
      "text/plain": [
       "array([170.84878539, 142.86933456, 120.30364808, 102.41288991,\n",
       "        88.37540246,  77.43583874,  68.93023156,  62.25038124,\n",
       "        56.88526876,  52.45774795,  48.7169621 ,  45.50204129,\n",
       "        42.70593461,  40.25313305,  38.08765822,  36.16512406,\n",
       "        34.44771376,  32.90255402,  31.50208616,  30.22441031,\n",
       "        29.0528554 ,  27.97506904,  26.98204009,  26.06723392,\n",
       "        25.22584597,  24.45412654,  23.7487548 ,  23.10629976,\n",
       "        22.52285297,  21.99390812,  21.51448702,  21.07942112,\n",
       "        20.68365996,  20.32250909,  19.99176234,  19.6877414 ,\n",
       "        19.40727489,  19.1476469 ,  18.90653569,  18.68195373,\n",
       "        18.47219407,  18.2757846 ,  18.09144974,  17.91807896,\n",
       "        17.75470075,  17.6004613 ,  17.45460689,  17.31646938,\n",
       "        17.18545403,  17.06102948,  16.94271926,  16.83009468,\n",
       "        16.72276875,  16.62039111,  16.52264361,  16.42923656,\n",
       "        16.33990551,  16.25440846,  16.17252339,  16.09404619,\n",
       "        16.01878883,  15.94657768,  15.87725214,  15.81066335,\n",
       "        15.74667312,  15.6851529 ,  15.62598293,  15.56905146,\n",
       "        15.51425404,  15.46149288,  15.41067635,  15.36171839,\n",
       "        15.31453812,  15.2690594 ,  15.22521048,  15.18292363,\n",
       "        15.14213487,  15.10278367,  15.06481271,  15.02816763,\n",
       "        14.99279686,  14.95865139,  14.9256846 ,  14.89385214,\n",
       "        14.86311173,  14.83342303,  14.80474756,  14.77704856,\n",
       "        14.75029086,  14.72444082,  14.69946623,  14.67533621,\n",
       "        14.65202117,  14.62949271,  14.60772354,  14.58668747,\n",
       "        14.56635932,  14.54671485,  14.52773077,  14.50938463])"
      ]
     },
     "execution_count": 282,
     "metadata": {},
     "output_type": "execute_result"
    }
   ],
   "source": [
    "func_val_history"
   ]
  },
  {
   "cell_type": "code",
   "execution_count": 283,
   "id": "d49f7dab",
   "metadata": {},
   "outputs": [],
   "source": [
    "def accelerated_gradient_descent(theta_0, X, y, beta, lamb, T=100):\n",
    "    theta = theta_0\n",
    "    func_val_history=np.zeros(T)\n",
    "    a_t=1\n",
    "    a_tminus1=1\n",
    "    theta_t=theta_0\n",
    "    theta_tminus1=theta_0\n",
    "    \n",
    "    for t in range(T):\n",
    "        u_t = theta_t + a_t*(1/a_tminus1 - 1)*(theta_t - theta_tminus1)\n",
    "        grad=calculate_gradient(X, u_t, y, lamb)\n",
    "        \n",
    "        theta_tminus1=theta_t\n",
    "        theta_t = u_t - (1/beta) * grad\n",
    "        \n",
    "        func_val_history[t]=evaluate_function_value(X, theta_t, y, lamb)\n",
    "        \n",
    "        a_tminus1=a_t\n",
    "        a_t = 1/2 * (np.sqrt(np.power(a_t, 4) + 4*np.power(a_t, 2)) - np.power(a_t, 2))\n",
    "        \n",
    "    return func_val_history"
   ]
  },
  {
   "cell_type": "code",
   "execution_count": 284,
   "id": "0a68ab60",
   "metadata": {},
   "outputs": [],
   "source": [
    "func_val_history_accelerated=accelerated_gradient_descent(theta_0, X, y, beta, lamb, T=100)"
   ]
  },
  {
   "cell_type": "code",
   "execution_count": 285,
   "id": "c00477b9",
   "metadata": {},
   "outputs": [
    {
     "data": {
      "text/plain": [
       "array([170.84878539, 142.86933456, 114.54653029,  89.59628796,\n",
       "        70.22111973,  56.43941422,  46.56979959,  39.19776265,\n",
       "        33.5402518 ,  29.08158136,  25.48998911,  22.73877935,\n",
       "        20.80998703,  19.43714572,  18.37401907,  17.51458474,\n",
       "        16.81931208,  16.26366785,  15.82366941,  15.47565147,\n",
       "        15.19878321,  14.9765278 ,  14.79649225,  14.64933952,\n",
       "        14.52766925,  14.42548764,  14.33835681,  14.26380833,\n",
       "        14.20140249,  14.15207361,  14.11694636,  14.0961884 ,\n",
       "        14.08840239,  14.09070196,  14.09928693,  14.11020577,\n",
       "        14.12003489,  14.12631722,  14.12771807,  14.12394319,\n",
       "        14.11550865,  14.10345326,  14.08905982,  14.07362319,\n",
       "        14.05828394,  14.04393317,  14.03118267,  14.02038372,\n",
       "        14.01167285,  14.00502437,  14.00029684,  13.99726938,\n",
       "        13.9956693 ,  13.99519439,  13.99553268,  13.99638064,\n",
       "        13.99745961,  13.99852991,  13.99940192,  13.99994297,\n",
       "        14.00007951,  13.99979376,  13.99911536,  13.99810911,\n",
       "        13.99686093,  13.99546415,  13.99400808,  13.99256989,\n",
       "        13.99121   ,  13.98997055,  13.98887612,  13.98793582,\n",
       "        13.98714609,  13.98649401,  13.98596064,  13.98552442,\n",
       "        13.98516433,  13.98486252,  13.98460591,  13.98438678,\n",
       "        13.9842021 ,  13.98405197,  13.98393746,  13.98385848,\n",
       "        13.98381213,  13.98379184,  13.98378743,  13.98378607,\n",
       "        13.98377385,  13.98373765,  13.98366693,  13.98355518,\n",
       "        13.98340074,  13.98320703,  13.98298205,  13.98273736,\n",
       "        13.98248666,  13.9822442 ,  13.98202317,  13.98183431])"
      ]
     },
     "execution_count": 285,
     "metadata": {},
     "output_type": "execute_result"
    }
   ],
   "source": [
    "func_val_history_accelerated"
   ]
  },
  {
   "cell_type": "code",
   "execution_count": 286,
   "id": "6571cdc5",
   "metadata": {},
   "outputs": [
    {
     "data": {
      "image/png": "[encoded data removed]",
      "text/plain": [
       "<Figure size 432x288 with 1 Axes>"
      ]
     },
     "metadata": {
      "needs_background": "light"
     },
     "output_type": "display_data"
    }
   ],
   "source": [
    "import matplotlib.pyplot as plt\n",
    "iteration=np.arange(100)\n",
    "plt.semilogy(iteration, func_val_history, label='gradient descent')\n",
    "#plt.semilogy(iteration, func_val_history_accelerated, label='accelerated gradient descent')\n",
    "plt.legend()\n",
    "plt.show()"
   ]
  },
  {
   "cell_type": "code",
   "execution_count": null,
   "id": "dcfd4d99",
   "metadata": {},
   "outputs": [],
   "source": []
  },
  {
   "cell_type": "code",
   "execution_count": null,
   "id": "f2b7f848",
   "metadata": {},
   "outputs": [],
   "source": []
  }
 ],
 "metadata": {
  "kernelspec": {
   "display_name": "Python 3",
   "language": "python",
   "name": "python3"
  },
  "language_info": {
   "codemirror_mode": {
    "name": "ipython",
    "version": 3
   },
   "file_extension": ".py",
   "mimetype": "text/x-python",
   "name": "python",
   "nbconvert_exporter": "python",
   "pygments_lexer": "ipython3",
   "version": "3.7.2"
  }
 },
 "nbformat": 4,
 "nbformat_minor": 5
}
